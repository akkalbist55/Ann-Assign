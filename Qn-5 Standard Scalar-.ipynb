{
 "cells": [
  {
   "cell_type": "markdown",
   "id": "d75a4845",
   "metadata": {},
   "source": [
    "# 5.\tWrite a python program to implement Standard Scalar."
   ]
  },
  {
   "cell_type": "code",
   "execution_count": 1,
   "id": "17f72714",
   "metadata": {},
   "outputs": [
    {
     "name": "stdout",
     "output_type": "stream",
     "text": [
      "Original Data: X = [[ 8.6 26. ]\n",
      " [13.   9.4]\n",
      " [15.  62. ]\n",
      " [ 7.   8.1]]\n",
      "___________________________________________________\n",
      "Scaled Data: x = [[-0.71 -0.02]\n",
      " [ 0.65 -0.78]\n",
      " [ 1.27  1.64]\n",
      " [-1.21 -0.84]]\n"
     ]
    }
   ],
   "source": [
    "import numpy as np\n",
    "\n",
    "def standard_scalar(data):\n",
    "    means = np.mean(data, axis=0)\n",
    "    data = data - means #centers the data around zero\n",
    "    sd = np.std(data, axis=0)\n",
    "    data_scaled = data / sd\n",
    "    return data_scaled\n",
    "\n",
    "data = np.array([[8.6, 26], [13, 9.4], [15, 62], [7, 8.1]])\n",
    "scaled_data = standard_scalar(data)\n",
    "rounded_data = np.round(scaled_data, 2)\n",
    "print(f\"Original Data: X = {data}\")\n",
    "print('___________________________________________________')\n",
    "print(f\"Scaled Data: x = {rounded_data}\")\n"
   ]
  },
  {
   "cell_type": "code",
   "execution_count": null,
   "id": "3e913b2b",
   "metadata": {},
   "outputs": [],
   "source": []
  }
 ],
 "metadata": {
  "kernelspec": {
   "display_name": "Python 3 (ipykernel)",
   "language": "python",
   "name": "python3"
  },
  "language_info": {
   "codemirror_mode": {
    "name": "ipython",
    "version": 3
   },
   "file_extension": ".py",
   "mimetype": "text/x-python",
   "name": "python",
   "nbconvert_exporter": "python",
   "pygments_lexer": "ipython3",
   "version": "3.10.9"
  }
 },
 "nbformat": 4,
 "nbformat_minor": 5
}
