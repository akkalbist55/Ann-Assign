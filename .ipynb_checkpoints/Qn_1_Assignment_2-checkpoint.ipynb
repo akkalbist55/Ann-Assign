{
 "cells": [
  {
   "cell_type": "markdown",
   "metadata": {
    "id": "hNaQwVKky0SK"
   },
   "source": [
    "Implement Backpropagation algorithm to train an ANN of configuration 2x2x1 to achieve XOR function."
   ]
  },
  {
   "cell_type": "code",
   "execution_count": 1,
   "metadata": {
    "colab": {
     "base_uri": "https://localhost:8080/"
    },
    "id": "U9cIRVsNyEpT",
    "outputId": "4ca1e08a-b161-44a3-d29e-12b779d59556"
   },
   "outputs": [
    {
     "name": "stdout",
     "output_type": "stream",
     "text": [
      "Iteration: 1000, W1: [[0.30870145 0.82989844]\n",
      " [0.10666709 0.52379496]], b1: [[0.39794264 0.01216622]], W2: [[-0.1652717 ]\n",
      " [-0.07370547]], b2: [[0.14687771]], Error: 0.510009889311009\n",
      "Iteration: 2000, W1: [[0.30945048 0.82122226]\n",
      " [0.08160294 0.51281952]], b1: [[ 3.84360304e-01 -3.27680303e-05]], W2: [[-0.16549857]\n",
      " [-0.00558576]], b2: [[0.16513345]], Error: 0.4932248104397067\n",
      "Iteration: 3000, W1: [[0.30144409 0.81341733]\n",
      " [0.07094    0.5059092 ]], b1: [[ 0.37879153 -0.00896519]], W2: [[-0.24875001]\n",
      " [-0.02562555]], b2: [[0.03292472]], Error: 0.46705527793429463\n",
      "Iteration: 4000, W1: [[0.29382353 0.81723367]\n",
      " [0.03898714 0.51567493]], b1: [[ 0.3594747  -0.01393191]], W2: [[-0.15392829]\n",
      " [ 0.16917992]], b2: [[0.17345204]], Error: 0.4582796193223164\n",
      "Iteration: 5000, W1: [[0.28637446 0.83689667]\n",
      " [0.03514752 0.53601181]], b1: [[ 0.34923157 -0.00778448]], W2: [[-0.1785675 ]\n",
      " [ 0.20142968]], b2: [[0.1317271]], Error: 0.4668190425289058\n",
      "Iteration: 6000, W1: [[0.29557052 0.84886758]\n",
      " [0.02224753 0.5676204 ]], b1: [[ 0.34455207 -0.00291241]], W2: [[-0.28306796]\n",
      " [ 0.15319375]], b2: [[-0.01321242]], Error: 0.47918782318404124\n",
      "Iteration: 7000, W1: [[0.31470533 0.86233732]\n",
      " [0.00369718 0.60246627]], b1: [[0.34452267 0.00196919]], W2: [[-0.39708286]\n",
      " [ 0.11103499]], b2: [[-0.17144117]], Error: 0.4202967210211031\n",
      "Iteration: 8000, W1: [[ 0.31261213  0.90435856]\n",
      " [-0.00677967  0.65198113]], b1: [[0.32460565 0.02171822]], W2: [[-0.3405178 ]\n",
      " [ 0.25846449]], b2: [[-0.07612848]], Error: 0.5314021777881637\n",
      "Iteration: 9000, W1: [[ 0.31045407  0.95425712]\n",
      " [-0.03334936  0.72687214]], b1: [[0.3133036  0.05099691]], W2: [[-0.33340091]\n",
      " [ 0.40499284]], b2: [[-0.05942566]], Error: 0.4986294174702357\n",
      "Iteration: 10000, W1: [[ 0.34027705  1.0279359 ]\n",
      " [-0.04284137  0.83955788]], b1: [[0.30886771 0.08792424]], W2: [[-0.40779026]\n",
      " [ 0.46139478]], b2: [[-0.14849315]], Error: 0.5182288011830278\n",
      "Input: [0 0], Output: [0], Predicted: [[0.46436158]]\n",
      "Input: [0 1], Output: [1], Predicted: [[0.4878196]]\n",
      "Input: [1 0], Output: [1], Predicted: [[0.48280547]]\n",
      "Input: [1 1], Output: [0], Predicted: [[0.49795638]]\n"
     ]
    }
   ],
   "source": [
    "import numpy as np\n",
    "\n",
    "def sigmoid(x):\n",
    "    return 1 / (1 + np.exp(-x))\n",
    "\n",
    "def sigmoid_der(x):\n",
    "    return x * (1 - x)\n",
    "\n",
    "X = np.array([[0, 0],[0, 1],[1, 0],[1, 1]])\n",
    "Y = np.array([[0],[1],[1],[0]])\n",
    "inp = 2\n",
    "hid = 2\n",
    "out = 1\n",
    "lr = 0.1\n",
    "\n",
    "W1 = np.random.uniform(size=(inp, hid))\n",
    "W2 = np.random.uniform(size=(hid, out))\n",
    "b1 = np.random.uniform(size=(1, hid))\n",
    "b2 = np.random.uniform(size=(1, out))\n",
    "\n",
    "epoch = 10000\n",
    "for i in range(epoch):\n",
    "    index = np.random.randint(len(X))\n",
    "    x = X[index]\n",
    "    y = Y[index]\n",
    "\n",
    "    # Forward propagation\n",
    "    a1 = sigmoid(np.dot(x, W1) + b1)\n",
    "    a2 = sigmoid(np.dot(a1, W2) + b2)\n",
    "\n",
    "    # Backward propagation\n",
    "    error = y - a2\n",
    "    delta2 = error * sigmoid_der(a2)\n",
    "    delta1 = delta2.dot(W2.T) * sigmoid_der(a1)\n",
    "    W2 += lr * a1.reshape(hid, 1).dot(delta2.reshape(1, out))\n",
    "    b2 += lr * delta2\n",
    "    W1 += lr * x.reshape(inp, 1).dot(delta1)\n",
    "    b1 += lr * delta1\n",
    "\n",
    "    if (i+1) % 1000 == 0:\n",
    "      error = np.mean(np.abs(error))\n",
    "      print(\"Iteration: {}, W1: {}, b1: {}, W2: {}, b2: {}, Error: {}\".format(i+1, W1, b1, W2, b2, error))\n",
    "\n",
    "for i in range(len(X)):\n",
    "    x = X[i]\n",
    "    y = Y[i]\n",
    "    a1 = sigmoid(np.dot(x, W1) + b1)\n",
    "    a2 = sigmoid(np.dot(a1, W2) + b2)\n",
    "    print(\"Input: {}, Output: {}, Predicted: {}\".format(x, y, a2))\n"
   ]
  },
  {
   "cell_type": "markdown",
   "metadata": {
    "id": "BQikZaO6mHkD"
   },
   "source": [
    "           Input Layer          Hidden Layer         Output Layer\n",
    "            (2 neurons)         (2 neurons)          (1 neuron)\n",
    "                |                    |                     |\n",
    "                |                    |                     |\n",
    "                |                    |                     |\n",
    "              [x1,x2]   ->      [a11,a12]   ->        [a21] \n",
    "                                    |                     \n",
    "                                    |                     \n",
    "                                    |                     \n",
    "                                 [a11,a12]   <-        [delta2]\n",
    "                |                    |                     \n",
    "                |                    |                     \n",
    "                |                    |                     \n",
    "         [delta1] <-      [W1]      [W2] ->          [delta2]\n",
    "                                 [b1]      [b2]  "
   ]
  },
  {
   "cell_type": "code",
   "execution_count": null,
   "metadata": {},
   "outputs": [],
   "source": []
  }
 ],
 "metadata": {
  "colab": {
   "provenance": []
  },
  "kernelspec": {
   "display_name": "Python 3 (ipykernel)",
   "language": "python",
   "name": "python3"
  },
  "language_info": {
   "codemirror_mode": {
    "name": "ipython",
    "version": 3
   },
   "file_extension": ".py",
   "mimetype": "text/x-python",
   "name": "python",
   "nbconvert_exporter": "python",
   "pygments_lexer": "ipython3",
   "version": "3.10.9"
  }
 },
 "nbformat": 4,
 "nbformat_minor": 1
}
