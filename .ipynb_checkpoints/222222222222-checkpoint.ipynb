{
 "cells": [
  {
   "cell_type": "code",
   "execution_count": 3,
   "id": "ac039e65",
   "metadata": {},
   "outputs": [
    {
     "name": "stdout",
     "output_type": "stream",
     "text": [
      "Training the perceptron with Epoch...\n",
      "Epoch No # 1: Updated weights=[-0.92 -5.4 ], bias=0.3\n",
      "Epoch No # 2: Updated weights=[-0.66  4.2 ], bias=0.3\n",
      "Epoch No # 3: Updated weights=[-1.58 -1.2 ], bias=0.09999999999999998\n",
      "Epoch No # 4: Updated weights=[-2.4 -2.6], bias=-0.10000000000000003\n",
      "Epoch No # 5: Updated weights=[-3.22 -4.  ], bias=-0.30000000000000004\n",
      "Test data:  [[ 5.3 52. ]]\n",
      "Predicted class is : female\n"
     ]
    }
   ],
   "source": [
    "import numpy as np\n",
    "\n",
    "def percept_train(x, w, t, alpha, bias):\n",
    "    for i in range(x.shape[0]):\n",
    "        sample = x[i]\n",
    "        target = t[i]\n",
    "        v = np.dot(sample, w) + bias\n",
    "        y = hardlim(v)\n",
    "        weight_update = alpha * (target - y) * sample\n",
    "        w = w + weight_update\n",
    "        bias_update = alpha * (target - y)\n",
    "        bias = bias + bias_update\n",
    "    return w, bias\n",
    "\n",
    "def percept_pred(x, w, bias):\n",
    "    v = np.dot(x, w) + bias\n",
    "    y = hardlim(v)\n",
    "    return y\n",
    "\n",
    "def hardlim(e):\n",
    "    if e > 0:\n",
    "        return 1\n",
    "    else:\n",
    "        return -1\n",
    "    \n",
    "training_input = np.array([[5.9, 75], [5.8, 86], [5.2, 50], [5.4, 55], [6.1, 85], [5.5, 62]])\n",
    "training_output = np.array([1, 1, -1, -1, 1, -1])\n",
    "test_input = np.array([[5.3, 52]])\n",
    "#test_input = np.array([[6, 82]])\n",
    "wt = [0, 0]\n",
    "bias = 0.5\n",
    "alpha = 0.1\n",
    "\n",
    "print(\"Training the perceptron with Epoch...\")\n",
    "epoch = 5\n",
    "for epoch in range(epoch):\n",
    "    \n",
    "    wt, bias = percept_train(training_input, wt, training_output, alpha, bias)\n",
    "    \n",
    "    print(f\"Epoch No # {epoch+1}: Updated weights={wt}, bias={bias}\")\n",
    "    \n",
    "print(\"Test data: \", test_input)\n",
    "test_input = test_input[0]\n",
    "y = percept_pred(test_input, wt, bias)\n",
    "if y == 1:\n",
    "    print(\"Predicted class is : male\")\n",
    "else:\n",
    "    print(\"Predicted class is : female\")\n"
   ]
  },
  {
   "cell_type": "code",
   "execution_count": null,
   "id": "13ca4161",
   "metadata": {},
   "outputs": [],
   "source": []
  }
 ],
 "metadata": {
  "kernelspec": {
   "display_name": "Python 3 (ipykernel)",
   "language": "python",
   "name": "python3"
  },
  "language_info": {
   "codemirror_mode": {
    "name": "ipython",
    "version": 3
   },
   "file_extension": ".py",
   "mimetype": "text/x-python",
   "name": "python",
   "nbconvert_exporter": "python",
   "pygments_lexer": "ipython3",
   "version": "3.10.9"
  }
 },
 "nbformat": 4,
 "nbformat_minor": 5
}
