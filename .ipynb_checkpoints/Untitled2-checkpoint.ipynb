{
 "cells": [
  {
   "cell_type": "code",
   "execution_count": 7,
   "id": "6ecfe732",
   "metadata": {},
   "outputs": [
    {
     "name": "stdout",
     "output_type": "stream",
     "text": [
      "How many no of inputs X:2\n",
      "Enter the x1: 1\n",
      "Enter the x2: 1\n",
      "How many no of weights W:3\n",
      "Enter the w1: 4\n",
      "Enter the w2: 7\n",
      "Enter the w3: 9\n",
      "Your entered input :  [1.0, 1.0]\n",
      "Your entered weight :  [4.0, 7.0, 9.0]\n",
      "The net input u is  11.0\n"
     ]
    }
   ],
   "source": [
    "import numpy as np\n",
    "input_number = int(input(\"How many no of inputs X:\"))\n",
    "inputs = []\n",
    "\n",
    "for i in range(0, input_number):\n",
    "    inputs.append(float(input(f\"Enter the x{i+1}: \")))\n",
    "    \n",
    "weight_no = int(input(\"How many no of weights W:\"))    \n",
    "weights = []\n",
    "for i in range(0, weight_no):\n",
    "    weights.append(float(input(f\"Enter the w{i+1}: \")))\n",
    "    \n",
    "print(\"Your entered input : \", inputs)\n",
    "print(\"Your entered weight : \", weights)\n",
    "\n",
    "\n",
    "u = (weighted_sum) = sum(inputs[i] * weights[i] for i in range(input_number))\n",
    "print(\"The net input u is \", u)"
   ]
  },
  {
   "cell_type": "code",
   "execution_count": 5,
   "id": "bf57a125",
   "metadata": {},
   "outputs": [
    {
     "name": "stdout",
     "output_type": "stream",
     "text": [
      "Enter the value of bais : 2\n"
     ]
    },
    {
     "ename": "TypeError",
     "evalue": "'float' object is not iterable",
     "output_type": "error",
     "traceback": [
      "\u001b[1;31m---------------------------------------------------------------------------\u001b[0m",
      "\u001b[1;31mTypeError\u001b[0m                                 Traceback (most recent call last)",
      "Cell \u001b[1;32mIn[5], line 2\u001b[0m\n\u001b[0;32m      1\u001b[0m bias \u001b[38;5;241m=\u001b[39m \u001b[38;5;28mint\u001b[39m(\u001b[38;5;28minput\u001b[39m(\u001b[38;5;124m\"\u001b[39m\u001b[38;5;124mEnter the value of bais : \u001b[39m\u001b[38;5;124m\"\u001b[39m))\n\u001b[1;32m----> 2\u001b[0m v \u001b[38;5;241m=\u001b[39m \u001b[38;5;28;43msum\u001b[39;49m\u001b[43m(\u001b[49m\u001b[43mu\u001b[49m\u001b[43m)\u001b[49m \u001b[38;5;241m+\u001b[39m bias\n\u001b[0;32m      3\u001b[0m \u001b[38;5;28mprint\u001b[39m(\u001b[38;5;124m\"\u001b[39m\u001b[38;5;124mThe weighted sum of bias is : \u001b[39m\u001b[38;5;124m\"\u001b[39m, v)\n\u001b[0;32m      5\u001b[0m threshold \u001b[38;5;241m=\u001b[39m \u001b[38;5;28mfloat\u001b[39m(\u001b[38;5;28minput\u001b[39m(\u001b[38;5;124m\"\u001b[39m\u001b[38;5;124mEnter the value of threshold : \u001b[39m\u001b[38;5;124m\"\u001b[39m))\n",
      "\u001b[1;31mTypeError\u001b[0m: 'float' object is not iterable"
     ]
    }
   ],
   "source": [
    "bias = int(input(\"Enter the value of bais : \"))\n",
    "v = sum(u) + bias\n",
    "print(\"The weighted sum of bias is : \", v)\n",
    "\n",
    "threshold = float(input(\"Enter the value of threshold : \"))\n",
    "\n",
    "# thaf means threshold activation function\n",
    "def thaf(x):\n",
    "  if x >= threshold:\n",
    "    print('Neuron is Fired')\n",
    "    return 1\n",
    "  else:\n",
    "    print('Neuron is not Fired')\n",
    "    return 0\n",
    "\n",
    "output = thaf(v)\n",
    "print(\"The weighed sum of bias = \" , v, \", Threshold = \", threshold, \", Output = \", output)"
   ]
  },
  {
   "cell_type": "code",
   "execution_count": null,
   "id": "1d00dc4a",
   "metadata": {},
   "outputs": [],
   "source": []
  }
 ],
 "metadata": {
  "kernelspec": {
   "display_name": "Python 3 (ipykernel)",
   "language": "python",
   "name": "python3"
  },
  "language_info": {
   "codemirror_mode": {
    "name": "ipython",
    "version": 3
   },
   "file_extension": ".py",
   "mimetype": "text/x-python",
   "name": "python",
   "nbconvert_exporter": "python",
   "pygments_lexer": "ipython3",
   "version": "3.10.9"
  }
 },
 "nbformat": 4,
 "nbformat_minor": 5
}
