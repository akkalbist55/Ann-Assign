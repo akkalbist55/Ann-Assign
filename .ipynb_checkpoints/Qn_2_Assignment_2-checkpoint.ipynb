{
 "cells": [
  {
   "cell_type": "markdown",
   "metadata": {
    "id": "XhKG1ipCsYST"
   },
   "source": [
    "Implement Backpropagation algorithm to train an ANN of configuration 3x2x2x1 to achieve majority function with 3-bit data. Output of the network must be 1 when there are two or more 1’s in the data."
   ]
  },
  {
   "cell_type": "code",
   "execution_count": 1,
   "metadata": {
    "id": "Ayn63fMNvATM"
   },
   "outputs": [
    {
     "name": "stdout",
     "output_type": "stream",
     "text": [
      "Input: [[0 1 0]]\n",
      "Output: [[0.03039143]]\n"
     ]
    }
   ],
   "source": [
    "import numpy as np\n",
    "\n",
    "def sigmoid(x):\n",
    "    return 1 / (1 + np.exp(-x))\n",
    "\n",
    "def sder(x):\n",
    "    return x * (1 - x)\n",
    "\n",
    "inputs = np.array([[0,0,0],[0,0,1],[0,1,0],[0,1,1],[1,0,0],[1,0,1],[1,1,0],[1,1,1]])\n",
    "outputs = np.array([[0],[0],[0],[1],[0],[1],[1],[1]])\n",
    "\n",
    "input_size = 3\n",
    "hidden_size1 = 2\n",
    "hidden_size2 = 2\n",
    "output_size = 1\n",
    "lr = 0.1\n",
    "\n",
    "# Initialize the weights with random values\n",
    "w1 = np.random.randn(input_size, hidden_size1)\n",
    "w2 = np.random.randn(hidden_size1, hidden_size2)\n",
    "w3 = np.random.randn(hidden_size2, output_size)\n",
    "\n",
    "\n",
    "epoch = 10000\n",
    "# Train the neural network using backpropagation\n",
    "for epoch in range(epoch):\n",
    "    # Forward propagation\n",
    "    z1 = np.dot(inputs, w1)\n",
    "    a1 = sigmoid(z1)\n",
    "    z2 = np.dot(a1, w2)\n",
    "    a2 = sigmoid(z2)\n",
    "    z3 = np.dot(a2, w3)\n",
    "    output = sigmoid(z3)\n",
    "\n",
    "    # Backpropagation\n",
    "    error = outputs - output\n",
    "    output_delta = error * sder(output)\n",
    "    a2_error = np.dot(output_delta, w3.T)\n",
    "    a2_delta = a2_error * sder(a2)\n",
    "    a1_error = np.dot(a2_delta, w2.T)\n",
    "    a1_delta = a1_error * sder(a1)\n",
    "\n",
    "    # Update the weights\n",
    "    w3 += lr * np.dot(a2.T, output_delta)\n",
    "    w2 += lr * np.dot(a1.T, a2_delta)\n",
    "    w1 += lr * np.dot(inputs.T, a1_delta)\n",
    "\n",
    "# Test the neural network\n",
    "test_input = np.array([[0,1,0]])\n",
    "z1 = np.dot(test_input, w1)\n",
    "a1 = sigmoid(z1)\n",
    "z2 = np.dot(a1, w2)\n",
    "a2 = sigmoid(z2)\n",
    "z3 = np.dot(a2, w3)\n",
    "output = sigmoid(z3)\n",
    "print(\"Input:\", test_input)\n",
    "print(\"Output:\", output)\n"
   ]
  },
  {
   "cell_type": "code",
   "execution_count": null,
   "metadata": {},
   "outputs": [],
   "source": []
  }
 ],
 "metadata": {
  "colab": {
   "provenance": []
  },
  "kernelspec": {
   "display_name": "Python 3 (ipykernel)",
   "language": "python",
   "name": "python3"
  },
  "language_info": {
   "codemirror_mode": {
    "name": "ipython",
    "version": 3
   },
   "file_extension": ".py",
   "mimetype": "text/x-python",
   "name": "python",
   "nbconvert_exporter": "python",
   "pygments_lexer": "ipython3",
   "version": "3.10.9"
  }
 },
 "nbformat": 4,
 "nbformat_minor": 1
}
