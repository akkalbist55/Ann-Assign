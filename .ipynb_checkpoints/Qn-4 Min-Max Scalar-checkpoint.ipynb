{
 "cells": [
  {
   "cell_type": "markdown",
   "id": "d75a4845",
   "metadata": {},
   "source": [
    "# 4.\tWrite a python program to implement Min-Max Scalar."
   ]
  },
  {
   "cell_type": "markdown",
   "id": "a0407742",
   "metadata": {},
   "source": [
    "Using Min_Max_Scalar Function"
   ]
  },
  {
   "cell_type": "code",
   "execution_count": 1,
   "id": "a31dbecd",
   "metadata": {},
   "outputs": [
    {
     "name": "stdout",
     "output_type": "stream",
     "text": [
      "Original Data: X = [[8.6, 26], [13, 9.4], [15, 62], [7, 8.1]]\n",
      "___________________________________________________________\n",
      "Scaled Data: x = [[0.2        0.33209647]\n",
      " [0.75       0.02411874]\n",
      " [1.         1.        ]\n",
      " [0.         0.        ]]\n"
     ]
    }
   ],
   "source": [
    "import numpy as np\n",
    "\n",
    "def min_max_scalar(OD):\n",
    "    X_min = np.min(OD, axis=0)\n",
    "    X_max = np.max(OD, axis=0)\n",
    "    X = (OD - X_min) / (X_max - X_min)\n",
    "    return X\n",
    "\n",
    "OD = [[8.6, 26], [13, 9.4], [15, 62], [7, 8.1]]\n",
    "print(f\"Original Data: X = {OD}\")\n",
    "print('___________________________________________________________')\n",
    "scaled_data = min_max_scalar(OD)\n",
    "print(f\"Scaled Data: x = {scaled_data}\")"
   ]
  },
  {
   "cell_type": "markdown",
   "id": "dc5b90b3",
   "metadata": {},
   "source": [
    "Using Formula"
   ]
  },
  {
   "cell_type": "code",
   "execution_count": 2,
   "id": "ee70818c",
   "metadata": {},
   "outputs": [
    {
     "data": {
      "text/plain": [
       "array([[0.2       , 0.33209647],\n",
       "       [0.75      , 0.02411874],\n",
       "       [1.        , 1.        ],\n",
       "       [0.        , 0.        ]])"
      ]
     },
     "execution_count": 2,
     "metadata": {},
     "output_type": "execute_result"
    }
   ],
   "source": [
    "OD = [[8.6, 26], [13, 9.4], [15, 62], [7, 8.1]]\n",
    "X_min = np.min(OD, axis=0)\n",
    "X_max = np.max(OD, axis=0)\n",
    "X = (OD - X_min) / (X_max - X_min)\n",
    "x = np.array(X)\n",
    "x"
   ]
  },
  {
   "cell_type": "code",
   "execution_count": null,
   "id": "2e80b62f",
   "metadata": {},
   "outputs": [],
   "source": []
  }
 ],
 "metadata": {
  "kernelspec": {
   "display_name": "Python 3 (ipykernel)",
   "language": "python",
   "name": "python3"
  },
  "language_info": {
   "codemirror_mode": {
    "name": "ipython",
    "version": 3
   },
   "file_extension": ".py",
   "mimetype": "text/x-python",
   "name": "python",
   "nbconvert_exporter": "python",
   "pygments_lexer": "ipython3",
   "version": "3.10.9"
  }
 },
 "nbformat": 4,
 "nbformat_minor": 5
}
