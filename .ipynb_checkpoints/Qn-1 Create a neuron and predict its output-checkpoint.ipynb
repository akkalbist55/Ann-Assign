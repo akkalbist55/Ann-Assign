{
 "cells": [
  {
   "cell_type": "markdown",
   "id": "c7079864",
   "metadata": {},
   "source": [
    "# 1.Write a python program to create a neuron and predict its output using the threshold activation function."
   ]
  },
  {
   "cell_type": "markdown",
   "id": "5d10ce29",
   "metadata": {},
   "source": [
    "Calculate input & weight value to weighted sum (u)"
   ]
  },
  {
   "cell_type": "code",
   "execution_count": 1,
   "id": "51604f47",
   "metadata": {},
   "outputs": [
    {
     "name": "stdout",
     "output_type": "stream",
     "text": [
      "How many no of inputs X:2\n",
      "Enter the x1:1\n",
      "Enter the x2:0\n",
      "How many no of weights W:2\n",
      "Enter the w1:3\n",
      "Enter the w2:5\n",
      "Your entered input : [1.0, 0.0]\n",
      "Your entered weight : [3.0, 5.0]\n",
      "The net input u is  3.0\n"
     ]
    }
   ],
   "source": [
    "input_number = int(input(\"How many no of inputs X:\"))\n",
    "inputs = []\n",
    "\n",
    "for i in range(0, input_number):\n",
    "    inputs.append(float(input(f\"Enter the x{i+1}:\")))\n",
    " \n",
    "weight_no = int(input(\"How many no of weights W:\"))    \n",
    "weights = []\n",
    "\n",
    "for i in range(0, weight_no):\n",
    "    weights.append(float(input(f\"Enter the w{i+1}:\")))\n",
    "    \n",
    "print(\"Your entered input :\", inputs)\n",
    "print(\"Your entered weight :\", weights)\n",
    "\n",
    "u = (weighted_sum) = sum(inputs[i] * weights[i] for i in range(input_number))\n",
    "print(\"The net input u is \", u)"
   ]
  },
  {
   "cell_type": "markdown",
   "id": "d7de2363",
   "metadata": {},
   "source": [
    "Calculate weighted sum of bias and final output (y)"
   ]
  },
  {
   "cell_type": "code",
   "execution_count": 2,
   "id": "58287d2d",
   "metadata": {},
   "outputs": [
    {
     "name": "stdout",
     "output_type": "stream",
     "text": [
      "Enter the value of bais 'b' : 0.5\n",
      "The weighted sum of bias b is :  3.5\n",
      "Enter the value of threshold 'α' : 1\n",
      "Neuron is Fired\n",
      "The weighed sum of bias = 3.5 Output y = 1\n"
     ]
    }
   ],
   "source": [
    "b = float(input(\"Enter the value of bais 'b' : \"))\n",
    "v = u + b\n",
    "\n",
    "print(\"The weighted sum of bias b is : \", v)\n",
    "\n",
    "α = float(input(\"Enter the value of threshold 'α' : \"))\n",
    "\n",
    "def hardlim(x):\n",
    "  if x >= α:\n",
    "    print('Neuron is Fired')\n",
    "    return 1\n",
    "  else:\n",
    "    print('Neuron is not Fired')\n",
    "    return -1\n",
    "\n",
    "y = hardlim(v)\n",
    "print(\"The weighed sum of bias =\", v, \"Output y =\", y)"
   ]
  },
  {
   "cell_type": "code",
   "execution_count": null,
   "id": "c6646a01",
   "metadata": {},
   "outputs": [],
   "source": []
  }
 ],
 "metadata": {
  "kernelspec": {
   "display_name": "Python 3 (ipykernel)",
   "language": "python",
   "name": "python3"
  },
  "language_info": {
   "codemirror_mode": {
    "name": "ipython",
    "version": 3
   },
   "file_extension": ".py",
   "mimetype": "text/x-python",
   "name": "python",
   "nbconvert_exporter": "python",
   "pygments_lexer": "ipython3",
   "version": "3.10.9"
  }
 },
 "nbformat": 4,
 "nbformat_minor": 5
}
