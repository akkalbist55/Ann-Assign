{
 "cells": [
  {
   "cell_type": "markdown",
   "id": "987b7618",
   "metadata": {},
   "source": [
    "# 2. Write a python program to train AND Gate Using Perceptron Learning Algorithm."
   ]
  },
  {
   "cell_type": "code",
   "execution_count": 1,
   "id": "8bf4c301",
   "metadata": {},
   "outputs": [],
   "source": [
    "import numpy as np\n",
    "X = np.array([[0, 0], [0, 1], [1, 0], [1, 1]])\n",
    "T = np.array([0, 0, 0, 1])\n",
    "w = [0, 0]\n",
    "b = 0.5\n",
    "α = 0.1"
   ]
  },
  {
   "cell_type": "code",
   "execution_count": 2,
   "id": "1e8882c3",
   "metadata": {},
   "outputs": [
    {
     "name": "stdout",
     "output_type": "stream",
     "text": [
      "Epoch No # 1: Updated weights=[-0.1 -0.1], bias=0.20000000000000004\n",
      "Epoch No # 2: Updated weights=[ 0.  -0.1], bias=0.10000000000000003\n",
      "Epoch No # 3: Updated weights=[0. 0.], bias=2.7755575615628914e-17\n",
      "Epoch No # 4: Updated weights=[0.1 0.1], bias=2.7755575615628914e-17\n",
      "Epoch No # 5: Updated weights=[0.2 0.1], bias=-0.09999999999999998\n",
      "Epoch No # 6: Updated weights=[0.2 0.1], bias=-0.19999999999999998\n",
      "Epoch No # 7: Updated weights=[0.2 0.2], bias=-0.19999999999999998\n",
      "Epoch No # 8: Updated weights=[0.2 0.1], bias=-0.3\n",
      "Epoch No # 9: Updated weights=[0.2 0.1], bias=-0.3\n",
      "Epoch No # 10: Updated weights=[0.2 0.1], bias=-0.3\n"
     ]
    }
   ],
   "source": [
    "def hardlim(x):\n",
    "  if x >= 0:\n",
    "    return 1\n",
    "  else:\n",
    "    return 0\n",
    "\n",
    "epoch = 10\n",
    "for epoch in range(epoch):\n",
    "    for i in range(len(X)):\n",
    "        x = X[i]\n",
    "        t = T[i]\n",
    "        \n",
    "        u = np.dot(x, w)\n",
    "        v = u + b\n",
    "        y = hardlim(v)\n",
    "        \n",
    "        w += α * (t - y) * x\n",
    "        b += α * (t - y)\n",
    "        \n",
    "    print(f\"Epoch No # {epoch+1}: Updated weights={w}, bias={b}\")"
   ]
  },
  {
   "cell_type": "code",
   "execution_count": 3,
   "id": "27314b77",
   "metadata": {
    "scrolled": true
   },
   "outputs": [
    {
     "name": "stdout",
     "output_type": "stream",
     "text": [
      "Input: [0 0], Output: 0\n",
      "Input: [0 1], Output: 0\n",
      "Input: [1 0], Output: 0\n",
      "Input: [1 1], Output: 1\n"
     ]
    }
   ],
   "source": [
    "# Test the model\n",
    "for i in range(len(X)):\n",
    "    x = X[i]\n",
    "    t = T[i]\n",
    "    u = np.dot(x, w)\n",
    "    v = u + b\n",
    "    y = hardlim(v)\n",
    "    print(f\"Input: {x}, Output: {y}\")"
   ]
  },
  {
   "cell_type": "code",
   "execution_count": null,
   "id": "d89b40e6",
   "metadata": {},
   "outputs": [],
   "source": []
  }
 ],
 "metadata": {
  "kernelspec": {
   "display_name": "Python 3 (ipykernel)",
   "language": "python",
   "name": "python3"
  },
  "language_info": {
   "codemirror_mode": {
    "name": "ipython",
    "version": 3
   },
   "file_extension": ".py",
   "mimetype": "text/x-python",
   "name": "python",
   "nbconvert_exporter": "python",
   "pygments_lexer": "ipython3",
   "version": "3.10.9"
  }
 },
 "nbformat": 4,
 "nbformat_minor": 5
}
