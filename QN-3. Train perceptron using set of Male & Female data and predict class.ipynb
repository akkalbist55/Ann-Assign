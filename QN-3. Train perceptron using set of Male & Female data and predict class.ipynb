{
 "cells": [
  {
   "cell_type": "markdown",
   "id": "c9fe1967",
   "metadata": {},
   "source": [
    "3.\tWrite a python program to train perceptron using given training set (([5.9, 75], Male), ([5.8, 86],Male), ([5.2, 50],Female), ([5.4, 55],Female), ([6.1, 85],Male), ([5.5, 62],Female) and predict class for the input (6,82) and (5.3,52)"
   ]
  },
  {
   "cell_type": "code",
   "execution_count": 1,
   "id": "fd2678ca",
   "metadata": {},
   "outputs": [
    {
     "name": "stdout",
     "output_type": "stream",
     "text": [
      "Epoch 1: w = [-0.11111111 -0.09444444], b = -0.10000000000000003\n",
      "Epoch 2: w = [0.17777778 0.17222222], b = -0.10000000000000003\n",
      "Epoch 3: w = [0.11111111 0.10555556], b = -0.30000000000000004\n",
      "Epoch 4: w = [0.2        0.17777778], b = -0.30000000000000004\n",
      "Epoch 5: w = [0.31111111 0.28888889], b = -0.30000000000000004\n",
      "Epoch 6: w = [0.31111111 0.28888889], b = -0.30000000000000004\n",
      "Epoch 7: w = [0.31111111 0.28888889], b = -0.30000000000000004\n",
      "Epoch 8: w = [0.31111111 0.28888889], b = -0.30000000000000004\n",
      "Epoch 9: w = [0.31111111 0.28888889], b = -0.30000000000000004\n",
      "Epoch 10: w = [0.31111111 0.28888889], b = -0.30000000000000004\n"
     ]
    }
   ],
   "source": [
    "import numpy as np\n",
    "\n",
    "Xin = np.array([[5.9, 75],[5.8, 86],[5.2, 50],[5.4, 55],[6.1, 85],[5.5, 62]])\n",
    "\n",
    "# Normalize the input data\n",
    "X = (Xin - np.min(Xin, axis=0)) / (np.max(Xin, axis=0) - np.min(Xin, axis=0))\n",
    "\n",
    "T = np.array([1, 1, -1, -1, 1, -1])\n",
    "w = [0, 0]\n",
    "b = 0.5\n",
    "lr = 0.1\n",
    "\n",
    "def hardlim(x):\n",
    "    if x >= 0:\n",
    "        return 1\n",
    "    else:\n",
    "        return -1\n",
    "\n",
    "# Train the perceptron model\n",
    "for epoch in range(10):\n",
    "    for i in range(len(X)):\n",
    "        x = X[i]\n",
    "        t = T[i]\n",
    "        v = np.dot(w, x) + b\n",
    "        y = hardlim(v)\n",
    "        w += lr * (t - y) * x\n",
    "        b += lr * (t - y)\n",
    "        \n",
    "    print(f\"Epoch {epoch+1}: w = {w}, b = {b}\")"
   ]
  },
  {
   "cell_type": "code",
   "execution_count": 2,
   "id": "3582e115",
   "metadata": {
    "scrolled": true
   },
   "outputs": [
    {
     "name": "stdout",
     "output_type": "stream",
     "text": [
      "Predict class of input data [ 6.1 85. ] is class Male\n"
     ]
    }
   ],
   "source": [
    "# Predict class for input (6,82) and (5.3,52)\n",
    "t_x = np.array([6.1, 85])\n",
    "#t_x = np.array([5.3,52])\n",
    "v = np.dot(w, t_x) + b\n",
    "y = hardlim(v)\n",
    "print(f\"Predict class of input data {t_x} is class {'Male' if y == 1 else 'Female'}\")"
   ]
  },
  {
   "cell_type": "code",
   "execution_count": null,
   "id": "d443ab87",
   "metadata": {},
   "outputs": [],
   "source": []
  },
  {
   "cell_type": "code",
   "execution_count": 3,
   "id": "8043e860",
   "metadata": {},
   "outputs": [
    {
     "name": "stdout",
     "output_type": "stream",
     "text": [
      "Epoch 1: w = [-0.92 -5.4 ], b = 0.3\n",
      "Epoch 2: w = [-0.66  4.2 ], b = 0.3\n",
      "Epoch 3: w = [-1.58 -1.2 ], b = 0.09999999999999998\n",
      "Epoch 4: w = [-2.4 -2.6], b = -0.10000000000000003\n",
      "Epoch 5: w = [-3.22 -4.  ], b = -0.30000000000000004\n",
      "Epoch 6: w = [-4.04 -5.4 ], b = -0.5\n",
      "Epoch 7: w = [-3.78  4.2 ], b = -0.5\n",
      "Epoch 8: w = [-4.7 -1.2], b = -0.7\n",
      "Epoch 9: w = [-5.52 -2.6 ], b = -0.8999999999999999\n",
      "Epoch 10: w = [-6.34 -4.  ], b = -1.0999999999999999\n",
      "Epoch 11: w = [-7.16 -5.4 ], b = -1.2999999999999998\n",
      "Epoch 12: w = [-6.9  4.2], b = -1.2999999999999998\n",
      "Epoch 13: w = [-7.82 -1.2 ], b = -1.4999999999999998\n",
      "Epoch 14: w = [-8.64 -2.6 ], b = -1.6999999999999997\n",
      "Epoch 15: w = [-9.46 -4.  ], b = -1.8999999999999997\n",
      "Epoch 16: w = [-10.28  -5.4 ], b = -2.0999999999999996\n",
      "Epoch 17: w = [-10.02   4.2 ], b = -2.0999999999999996\n",
      "Epoch 18: w = [-10.94  -1.2 ], b = -2.3\n",
      "Epoch 19: w = [-11.76  -2.6 ], b = -2.5\n",
      "Epoch 20: w = [-12.58  -4.  ], b = -2.7\n",
      "Epoch 21: w = [-12.44   1.  ], b = -2.7\n",
      "Epoch 22: w = [-13.26  -0.4 ], b = -2.9000000000000004\n",
      "Epoch 23: w = [-14.08  -1.8 ], b = -3.1000000000000005\n",
      "Epoch 24: w = [-14.9  -3.2], b = -3.3000000000000007\n",
      "Epoch 25: w = [-15.72  -4.6 ], b = -3.500000000000001\n",
      "Epoch 26: w = [-15.46   5.  ], b = -3.500000000000001\n",
      "Epoch 27: w = [-16.38  -0.4 ], b = -3.700000000000001\n",
      "Epoch 28: w = [-17.2  -1.8], b = -3.9000000000000012\n",
      "Epoch 29: w = [-18.02  -3.2 ], b = -4.100000000000001\n",
      "Epoch 30: w = [-18.98 -10.6 ], b = -4.300000000000002\n",
      "Epoch 31: w = [-18.72  -1.  ], b = -4.300000000000002\n",
      "Epoch 32: w = [-19.54  -2.4 ], b = -4.500000000000002\n",
      "Epoch 33: w = [-20.36  -3.8 ], b = -4.700000000000002\n",
      "Epoch 34: w = [-20.1   5.8], b = -4.700000000000002\n",
      "Epoch 35: w = [-21.02   0.4 ], b = -4.900000000000002\n",
      "Epoch 36: w = [-21.84  -1.  ], b = -5.100000000000002\n",
      "Epoch 37: w = [-22.66  -2.4 ], b = -5.3000000000000025\n",
      "Epoch 38: w = [-23.48  -3.8 ], b = -5.500000000000003\n",
      "Epoch 39: w = [-23.22   5.8 ], b = -5.500000000000003\n",
      "Epoch 40: w = [-24.14   0.4 ], b = -5.700000000000003\n",
      "Epoch 41: w = [-24.96  -1.  ], b = -5.900000000000003\n",
      "Epoch 42: w = [-25.78  -2.4 ], b = -6.100000000000003\n",
      "Epoch 43: w = [-26.74  -9.8 ], b = -6.300000000000003\n",
      "Epoch 44: w = [-26.48  -0.2 ], b = -6.300000000000003\n",
      "Epoch 45: w = [-27.3  -1.6], b = -6.5000000000000036\n",
      "Epoch 46: w = [-28.12  -3.  ], b = -6.700000000000004\n",
      "Epoch 47: w = [-27.86   6.6 ], b = -6.700000000000004\n",
      "Epoch 48: w = [-28.78   1.2 ], b = -6.900000000000004\n",
      "Epoch 49: w = [-29.6  -0.2], b = -7.100000000000004\n",
      "Epoch 50: w = [-30.42  -1.6 ], b = -7.300000000000004\n",
      "Epoch 51: w = [-31.24  -3.  ], b = -7.500000000000004\n",
      "Epoch 52: w = [-30.98   6.6 ], b = -7.500000000000004\n",
      "Epoch 53: w = [-31.9   1.2], b = -7.700000000000005\n",
      "Epoch 54: w = [-32.72  -0.2 ], b = -7.900000000000005\n",
      "Epoch 55: w = [-33.54  -1.6 ], b = -8.100000000000005\n",
      "Epoch 56: w = [-34.5  -9. ], b = -8.300000000000004\n",
      "Epoch 57: w = [-34.24   0.6 ], b = -8.300000000000004\n",
      "Epoch 58: w = [-35.06  -0.8 ], b = -8.500000000000004\n",
      "Epoch 59: w = [-35.88  -2.2 ], b = -8.700000000000003\n",
      "Epoch 60: w = [-35.74   2.8 ], b = -8.700000000000003\n",
      "Epoch 61: w = [-36.56   1.4 ], b = -8.900000000000002\n",
      "Epoch 62: w = [-3.7380000e+01 -8.8817842e-15], b = -9.100000000000001\n",
      "Epoch 63: w = [-38.2  -1.4], b = -9.3\n",
      "Epoch 64: w = [-39.16  -8.8 ], b = -9.5\n",
      "Epoch 65: w = [-38.9   0.8], b = -9.5\n",
      "Epoch 66: w = [-39.72  -0.6 ], b = -9.7\n",
      "Epoch 67: w = [-40.54  -2.  ], b = -9.899999999999999\n",
      "Epoch 68: w = [-40.28   7.6 ], b = -9.899999999999999\n",
      "Epoch 69: w = [-41.2   2.2], b = -10.099999999999998\n",
      "Epoch 70: w = [-42.02   0.8 ], b = -10.299999999999997\n",
      "Epoch 71: w = [-42.84  -0.6 ], b = -10.499999999999996\n",
      "Epoch 72: w = [-43.66  -2.  ], b = -10.699999999999996\n",
      "Epoch 73: w = [-43.4   7.6], b = -10.699999999999996\n",
      "Epoch 74: w = [-44.32   2.2 ], b = -10.899999999999995\n",
      "Epoch 75: w = [-45.14   0.8 ], b = -11.099999999999994\n",
      "Epoch 76: w = [-45.96  -0.6 ], b = -11.299999999999994\n",
      "Epoch 77: w = [-46.92  -8.  ], b = -11.499999999999993\n",
      "Epoch 78: w = [-46.66   1.6 ], b = -11.499999999999993\n",
      "Epoch 79: w = [-47.48   0.2 ], b = -11.699999999999992\n",
      "Epoch 80: w = [-48.3  -1.2], b = -11.899999999999991\n",
      "Epoch 81: w = [-48.16   3.8 ], b = -11.899999999999991\n",
      "Epoch 82: w = [-48.98   2.4 ], b = -12.09999999999999\n",
      "Epoch 83: w = [-49.8   1. ], b = -12.29999999999999\n",
      "Epoch 84: w = [-50.62  -0.4 ], b = -12.49999999999999\n",
      "Epoch 85: w = [-50.48   4.6 ], b = -12.49999999999999\n",
      "Epoch 86: w = [-50.48   4.6 ], b = -12.49999999999999\n"
     ]
    }
   ],
   "source": [
    "import numpy as np\n",
    "\n",
    "X = np.array([[5.9, 75],[5.8, 86],[5.2, 50],[5.4, 55],[6.1, 85],[5.5, 62]])\n",
    "\n",
    "T = np.array([1, 1, -1, -1, 1, -1])\n",
    "w = [0, 0]\n",
    "b = 0.5\n",
    "lr = 0.1\n",
    "\n",
    "def hardlim(x):\n",
    "    if x >= 0:\n",
    "        return 1\n",
    "    else:\n",
    "        return -1\n",
    "\n",
    "# Train the perceptron model\n",
    "for epoch in range(86):\n",
    "    for i in range(len(X)):\n",
    "        x = X[i]\n",
    "        t = T[i]\n",
    "\n",
    "        v = np.dot(w, x) + b\n",
    "        y = hardlim(v)\n",
    "        w += lr * (t - y) * x\n",
    "        b += lr * (t - y)\n",
    "        \n",
    "    print(f\"Epoch {epoch+1}: w = {w}, b = {b}\")"
   ]
  },
  {
   "cell_type": "code",
   "execution_count": 4,
   "id": "b970914b",
   "metadata": {},
   "outputs": [
    {
     "name": "stdout",
     "output_type": "stream",
     "text": [
      "Input [ 5.3 52. ] is predicted as Female\n"
     ]
    }
   ],
   "source": [
    "# Predict class for input (6,82) and (5.3,52)\n",
    "#t_x = np.array([6.1, 85])\n",
    "t_x = np.array([5.3,52])\n",
    "v = np.dot(w, t_x) + b\n",
    "y = hardlim(v)\n",
    "print(f\"Input {t_x} is predicted as {'Male' if y == 1 else 'Female'}\")"
   ]
  },
  {
   "cell_type": "code",
   "execution_count": null,
   "id": "4c064d13",
   "metadata": {},
   "outputs": [],
   "source": []
  }
 ],
 "metadata": {
  "kernelspec": {
   "display_name": "Python 3 (ipykernel)",
   "language": "python",
   "name": "python3"
  },
  "language_info": {
   "codemirror_mode": {
    "name": "ipython",
    "version": 3
   },
   "file_extension": ".py",
   "mimetype": "text/x-python",
   "name": "python",
   "nbconvert_exporter": "python",
   "pygments_lexer": "ipython3",
   "version": "3.10.9"
  }
 },
 "nbformat": 4,
 "nbformat_minor": 5
}
