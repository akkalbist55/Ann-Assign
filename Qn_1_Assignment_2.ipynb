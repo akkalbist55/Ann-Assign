{
  "nbformat": 4,
  "nbformat_minor": 0,
  "metadata": {
    "colab": {
      "provenance": []
    },
    "kernelspec": {
      "name": "python3",
      "display_name": "Python 3"
    },
    "language_info": {
      "name": "python"
    }
  },
  "cells": [
    {
      "cell_type": "markdown",
      "source": [
        "Implement Backpropagation algorithm to train an ANN of configuration 2x2x1 to achieve XOR function."
      ],
      "metadata": {
        "id": "hNaQwVKky0SK"
      }
    },
    {
      "cell_type": "code",
      "source": [
        "import numpy as np\n",
        "\n",
        "def sigmoid(x):\n",
        "    return 1 / (1 + np.exp(-x)) \n",
        "\n",
        "def sder(x):\n",
        "    return x * (1 - x)\n",
        "\n",
        "X = np.array([[0, 0],[0, 1],[1, 0],[1, 1]])\n",
        "Y = np.array([[0],[1],[1],[0]])\n",
        "inp = 2\n",
        "hid = 2\n",
        "out = 1\n",
        "lr = 0.1\n",
        "\n",
        "W1 = np.random.uniform(size=(inp, hid))\n",
        "W2 = np.random.uniform(size=(hid, out))\n",
        "b1 = np.random.uniform(size=(1, hid))\n",
        "b2 = np.random.uniform(size=(1, out))\n",
        "\n",
        "epoch = 10000\n",
        "for i in range(epoch):\n",
        "    index = np.random.randint(len(X))\n",
        "    x = X[index]\n",
        "    y = Y[index]\n",
        "\n",
        "    # Forward propagation\n",
        "    a1 = sigmoid(np.dot(x, W1) + b1)\n",
        "    a2 = sigmoid(np.dot(a1, W2) + b2)\n",
        "\n",
        "    # Backward propagation\n",
        "    error = y - a2\n",
        "    del2 = error * sder(a2)\n",
        "    del1 = del2.dot(W2.T) * sder(a1)\n",
        "    W2 += lr * a1.reshape(hid, 1).dot(del2.reshape(1, out))\n",
        "    b2 += lr * del2\n",
        "    W1 += lr * x.reshape(inp, 1).dot(del1)\n",
        "    b1 += lr * del1\n",
        "\n",
        "    if (i+1) % 1000 == 0:\n",
        "      error = np.mean(np.abs(error))\n",
        "      print(\"Iteration: {}, W1: {}, b1: {}, W2: {}, b2: {}, Error: {}\".format(i+1, W1, b1, W2, b2, error))\n",
        "\n",
        "for i in range(len(X)):\n",
        "    x = X[i]\n",
        "    y = Y[i]\n",
        "    a1 = sigmoid(np.dot(x, W1) + b1)\n",
        "    a2 = sigmoid(np.dot(a1, W2) + b2)\n",
        "    print(\"Input: {}, Output: {}, Predicted: {}\".format(x, y, a2))\n"
      ],
      "metadata": {
        "colab": {
          "base_uri": "https://localhost:8080/"
        },
        "id": "U9cIRVsNyEpT",
        "outputId": "78e7ad26-ca8e-4326-da1b-1f1001575ed6"
      },
      "execution_count": 1,
      "outputs": [
        {
          "output_type": "stream",
          "name": "stdout",
          "text": [
            "Iteration: 1000, W1: [[ 0.83965442  0.85004216]\n",
            " [ 0.73689075 -0.01249428]], b1: [[0.49513439 0.96858629]], W2: [[ 0.41428457]\n",
            " [-0.07992473]], b2: [[-0.23270081]], Error: 0.49907533450653363\n",
            "Iteration: 2000, W1: [[ 0.93733414  0.84866721]\n",
            " [ 0.84789164 -0.04925147]], b1: [[0.49721985 0.95669661]], W2: [[ 0.63884996]\n",
            " [-0.05612966]], b2: [[-0.18474283]], Error: 0.5493945377513718\n",
            "Iteration: 3000, W1: [[ 1.07283738  0.85386107]\n",
            " [ 0.99814143 -0.08663781]], b1: [[0.47833562 0.94929171]], W2: [[ 0.68922704]\n",
            " [-0.24831425]], b2: [[-0.39231656]], Error: 0.5084060743537923\n",
            "Iteration: 4000, W1: [[ 1.27156991  0.8580559 ]\n",
            " [ 1.19828894 -0.14260014]], b1: [[0.44200085 0.94155229]], W2: [[ 0.96970148]\n",
            " [-0.29197963]], b2: [[-0.41689298]], Error: 0.46875397153706555\n",
            "Iteration: 5000, W1: [[ 1.50928349  0.89700419]\n",
            " [ 1.43978265 -0.2187703 ]], b1: [[0.41592172 0.92954258]], W2: [[ 1.20049428]\n",
            " [-0.43987729]], b2: [[-0.49667338]], Error: 0.5829059443817738\n",
            "Iteration: 6000, W1: [[ 1.82265652  0.95977692]\n",
            " [ 1.78112048 -0.34016712]], b1: [[0.22384179 0.93412768]], W2: [[ 1.57252325]\n",
            " [-0.67285231]], b2: [[-0.68260773]], Error: 0.4390605614170098\n",
            "Iteration: 7000, W1: [[ 2.22528206  1.09143533]\n",
            " [ 2.13508393 -0.43302291]], b1: [[0.06577555 0.94617874]], W2: [[ 1.97177464]\n",
            " [-0.88564276]], b2: [[-0.81195741]], Error: 0.45893199200311086\n",
            "Iteration: 8000, W1: [[ 2.66322729  1.28974938]\n",
            " [ 2.52435537 -0.52605471]], b1: [[-0.13792757  0.97188835]], W2: [[ 2.3532915 ]\n",
            " [-1.19456333]], b2: [[-1.02593467]], Error: 0.4906543186609147\n",
            "Iteration: 9000, W1: [[ 3.11280311  1.51601248]\n",
            " [ 2.84274227 -0.5674257 ]], b1: [[-0.36139575  1.03388747]], W2: [[ 2.71535632]\n",
            " [-1.4705762 ]], b2: [[-1.23602644]], Error: 0.5536768250103351\n",
            "Iteration: 10000, W1: [[ 3.49762704  1.85216934]\n",
            " [ 3.15079626 -0.66044371]], b1: [[-0.38702247  0.98684186]], W2: [[ 3.01298957]\n",
            " [-1.75939756]], b2: [[-1.30006064]], Error: 0.5412584303097712\n",
            "Input: [0 0], Output: [0], Predicted: [[0.20372694]]\n",
            "Input: [0 1], Output: [1], Predicted: [[0.62532545]]\n",
            "Input: [1 0], Output: [1], Predicted: [[0.48055275]]\n",
            "Input: [1 1], Output: [0], Predicted: [[0.53163468]]\n"
          ]
        }
      ]
    }
  ]
}